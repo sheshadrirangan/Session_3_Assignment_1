{
 "cells": [
  {
   "cell_type": "markdown",
   "metadata": {},
   "source": [
    "# Session_2_Assignment_1"
   ]
  },
  {
   "cell_type": "markdown",
   "metadata": {},
   "source": [
    "1.1  Write a Python Program to implement your own myreduce() function which works exactly like Python's built-in function reduce() "
   ]
  },
  {
   "cell_type": "code",
   "execution_count": 1,
   "metadata": {
    "scrolled": true
   },
   "outputs": [
    {
     "name": "stdout",
     "output_type": "stream",
     "text": [
      "Sum of sequence [1,2,3,4]) is :  10\n",
      "Difference of sequence [1,2,3,4] is :  -8\n",
      "Product of sequence [1,2,3,4] is :  24\n",
      "Max of sequence [1,2,3,4] is :  4\n"
     ]
    }
   ],
   "source": [
    "def myreduce(myfunc, lst):\n",
    "    result = lst[0]\n",
    "    for l in lst[1:]:\n",
    "        result = myfunc(result, l)   \n",
    "    return result\n",
    "\n",
    "addfunc = lambda a, b: a + b\n",
    "\n",
    "subfunc = lambda a, b: a - b\n",
    "\n",
    "mulfunc = lambda a, b: a * b\n",
    "\n",
    "maxfunc = lambda a, b: a if a > b else b\n",
    "\n",
    "lst = [1,2,3,4]\n",
    "a = myreduce(addfunc, lst)\n",
    "b = myreduce(subfunc, lst)\n",
    "c = myreduce(mulfunc, lst)\n",
    "d = myreduce(maxfunc, lst)\n",
    "\n",
    "print(\"Sum of sequence [1,2,3,4]) is : \", a)\n",
    "print(\"Difference of sequence [1,2,3,4] is : \", b)\n",
    "print(\"Product of sequence [1,2,3,4] is : \", c)\n",
    "print(\"Max of sequence [1,2,3,4] is : \", d)"
   ]
  },
  {
   "cell_type": "markdown",
   "metadata": {},
   "source": [
    "1.2 Write a Python program to implement your own myfilter() function which works exactly like Python's built-in function filter() "
   ]
  },
  {
   "cell_type": "code",
   "execution_count": 2,
   "metadata": {
    "scrolled": true
   },
   "outputs": [
    {
     "name": "stdout",
     "output_type": "stream",
     "text": [
      "Even numbers of sequence [1,2,3,4]) is :  [2, 4]\n",
      "Odd numbers of sequence [1,2,3,4] is :  [1, 3]\n",
      "Positive numbers of sequence [-1,2,3,-4] is :  [2, 3]\n",
      "Negative numbers of sequence [-1,2,3,-4] is :  [-1, -4]\n",
      "sequence [1,2,0,3,4,0] contains only zero is :  [0, 0]\n"
     ]
    }
   ],
   "source": [
    "def myfilter(myfunc, lst):\n",
    "    result = []\n",
    "    for l in lst:\n",
    "        if myfunc(l):\n",
    "            result.append(l)\n",
    "    return result\n",
    "\n",
    "isevenfunc = lambda a: True if a % 2 == 0 else False\n",
    "\n",
    "isoddfunc = lambda a: True if a % 2 != 0 else False\n",
    "\n",
    "ispositive = lambda a: True if a > 0 else False\n",
    "\n",
    "isnegative = lambda a: True if a < 0 else False\n",
    "\n",
    "iszero = lambda a: True if a == 0 else False\n",
    "\n",
    "lst = [1,2,3,4]\n",
    "a = myfilter(isevenfunc, [1,2,3,4])\n",
    "b = myfilter(isoddfunc, [1,2,3,4])\n",
    "c = myfilter(ispositive, [-1,2,3,-4])\n",
    "d = myfilter(isnegative, [-1,2,3,-4])\n",
    "e = myfilter(iszero, [1,2,0,3,4,0])\n",
    "\n",
    "print(\"Even numbers of sequence [1,2,3,4]) is : \", a)\n",
    "print(\"Odd numbers of sequence [1,2,3,4] is : \", b)\n",
    "print(\"Positive numbers of sequence [-1,2,3,-4] is : \", c)\n",
    "print(\"Negative numbers of sequence [-1,2,3,-4] is : \", d)\n",
    "print(\"sequence [1,2,0,3,4,0] contains only zero is : \", e)"
   ]
  },
  {
   "cell_type": "markdown",
   "metadata": {},
   "source": [
    "2.  Implement List comprehensions to produce the following lists. \n",
    " \n",
    "a. Write List comprehensions to produce the following Lists \n",
    " \n",
    "['A', 'C', 'A', 'D', 'G', 'I', 'L', 'D'] "
   ]
  },
  {
   "cell_type": "code",
   "execution_count": 3,
   "metadata": {},
   "outputs": [
    {
     "data": {
      "text/plain": [
       "['A', 'C', 'A', 'D', 'G', 'I', 'L', 'D']"
      ]
     },
     "execution_count": 3,
     "metadata": {},
     "output_type": "execute_result"
    }
   ],
   "source": [
    "word = \"ACADGILD\"\n",
    "[letter for letter in word]"
   ]
  },
  {
   "cell_type": "markdown",
   "metadata": {},
   "source": [
    "b. Write List comprehensions to produce the following Lists \n",
    " \n",
    "['x', 'xx', 'xxx', 'xxxx', 'y', 'yy', 'yyy', 'yyyy', 'z', 'zz', 'zzz', 'zzzz'] "
   ]
  },
  {
   "cell_type": "code",
   "execution_count": 4,
   "metadata": {},
   "outputs": [
    {
     "data": {
      "text/plain": [
       "['x', 'xx', 'xxx', 'xxxx', 'y', 'yy', 'yyy', 'yyyy', 'z', 'zz', 'zzz', 'zzzz']"
      ]
     },
     "execution_count": 4,
     "metadata": {},
     "output_type": "execute_result"
    }
   ],
   "source": [
    "lst = ['x','y','z']\n",
    "[i*j for i in lst for j in range(1,5)]"
   ]
  },
  {
   "cell_type": "markdown",
   "metadata": {},
   "source": [
    "c. Write List comprehensions to produce the following Lists \n",
    "\n",
    "['x', 'y', 'z', 'xx', 'yy', 'zz', 'xxx', 'yyy', 'zzz', 'xxxx', 'yyyy', 'zzzz'] "
   ]
  },
  {
   "cell_type": "code",
   "execution_count": 5,
   "metadata": {},
   "outputs": [
    {
     "data": {
      "text/plain": [
       "['x', 'y', 'z', 'xx', 'yy', 'zz', 'xxx', 'yyy', 'zzz', 'xxxx', 'yyyy', 'zzzz']"
      ]
     },
     "execution_count": 5,
     "metadata": {},
     "output_type": "execute_result"
    }
   ],
   "source": [
    "lst = ['x','y','z']\n",
    "[i*j for i in range(1,5) for j in lst]"
   ]
  },
  {
   "cell_type": "markdown",
   "metadata": {},
   "source": [
    "d. Write List comprehensions to produce the following Lists \n",
    "\n",
    "[[2], [3], [4], [3], [4], [5], [4], [5], [6]] "
   ]
  },
  {
   "cell_type": "code",
   "execution_count": 6,
   "metadata": {},
   "outputs": [
    {
     "data": {
      "text/plain": [
       "[[2], [3], [4], [3], [4], [5], [4], [5], [6]]"
      ]
     },
     "execution_count": 6,
     "metadata": {},
     "output_type": "execute_result"
    }
   ],
   "source": [
    "lst = [2,3,4]\n",
    "[[i+j] for i in lst for j in range(0,3)]"
   ]
  },
  {
   "cell_type": "markdown",
   "metadata": {},
   "source": [
    "e. Write List comprehensions to produce the following Lists \n",
    "\n",
    "[[2, 3, 4, 5], [3, 4, 5, 6], [4, 5, 6, 7], [5, 6, 7, 8]] "
   ]
  },
  {
   "cell_type": "code",
   "execution_count": 7,
   "metadata": {},
   "outputs": [
    {
     "data": {
      "text/plain": [
       "[[2, 3, 4, 5], [3, 4, 5, 6], [4, 5, 6, 7], [5, 6, 7, 8]]"
      ]
     },
     "execution_count": 7,
     "metadata": {},
     "output_type": "execute_result"
    }
   ],
   "source": [
    "lst = [2,3,4,5]\n",
    "[[i+j for i in lst] for j in range(0,4)]"
   ]
  },
  {
   "cell_type": "markdown",
   "metadata": {},
   "source": [
    "f. Write List comprehensions to produce the following Lists \n",
    "\n",
    "[(1, 1), (2, 1), (3, 1), (1, 2), (2, 2), (3, 2), (1, 3), (2, 3), (3, 3)] "
   ]
  },
  {
   "cell_type": "code",
   "execution_count": 8,
   "metadata": {},
   "outputs": [
    {
     "data": {
      "text/plain": [
       "[(1, 1), (2, 1), (3, 1), (1, 2), (2, 2), (3, 2), (1, 3), (2, 3), (3, 3)]"
      ]
     },
     "execution_count": 8,
     "metadata": {},
     "output_type": "execute_result"
    }
   ],
   "source": [
    "lst = [1,2,3]\n",
    "[(j,i) for i in lst for j in lst]"
   ]
  },
  {
   "cell_type": "markdown",
   "metadata": {},
   "source": [
    "3.  Implement a function longestWord() that takes a list of words and returns the longest one. "
   ]
  },
  {
   "cell_type": "code",
   "execution_count": 9,
   "metadata": {},
   "outputs": [
    {
     "name": "stdout",
     "output_type": "stream",
     "text": [
      "acadgild\n",
      "acadgild\n"
     ]
    }
   ],
   "source": [
    "def longestword(lst):\n",
    "    longword = lst[0]\n",
    "    for word in lst[1:]:\n",
    "        if (len(word) > len(longword)):\n",
    "            longword = word\n",
    "    return longword\n",
    "\n",
    "def longest_word(lst):\n",
    "    return max(lst, key=len)\n",
    "\n",
    "a = longestword(['hi','welcome','to','acadgild'])\n",
    "b = longest_word(['hi','welcome','to','acadgild'])\n",
    "\n",
    "print(a)\n",
    "print(b)"
   ]
  },
  {
   "cell_type": "code",
   "execution_count": null,
   "metadata": {},
   "outputs": [],
   "source": []
  }
 ],
 "metadata": {
  "kernelspec": {
   "display_name": "Python 3",
   "language": "python",
   "name": "python3"
  },
  "language_info": {
   "codemirror_mode": {
    "name": "ipython",
    "version": 3
   },
   "file_extension": ".py",
   "mimetype": "text/x-python",
   "name": "python",
   "nbconvert_exporter": "python",
   "pygments_lexer": "ipython3",
   "version": "3.7.0"
  }
 },
 "nbformat": 4,
 "nbformat_minor": 2
}
